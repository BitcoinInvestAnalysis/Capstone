{
 "cells": [
  {
   "cell_type": "code",
   "execution_count": 12,
   "metadata": {},
   "outputs": [],
   "source": [
    "import numpy as np\n",
    "import matplotlib.pyplot as plt\n",
    "import pandas as pd\n",
    "import pandas_datareader as web\n",
    "import datetime as dt\n",
    "\n",
    "from sklearn.preprocessing import MinMaxScaler\n",
    "from tensorflow.keras.models import Sequential\n",
    "from tensorflow.keras.layers import Dense, Dropout, LSTM\n",
    "\n",
    "import api_function as api"
   ]
  },
  {
   "cell_type": "code",
   "execution_count": 13,
   "metadata": {},
   "outputs": [],
   "source": [
    "# Load Data\n",
    "company = \"GOOG\"\n",
    "start = \"2012-01-01\"\n",
    "end = \"2021-12-31\"\n",
    "\n",
    "data = api.get_df_stock_daily(company, start, end)"
   ]
  },
  {
   "cell_type": "code",
   "execution_count": 14,
   "metadata": {},
   "outputs": [],
   "source": [
    "#Prepare Data\n",
    "scaler=MinMaxScaler(feature_range=(0,1))\n",
    "scaled_data=scaler.fit_transform(data['Close'].values.reshape(-1,1))\n",
    "\n",
    "prediction_days = 60\n",
    "\n",
    "x_train=[]\n",
    "y_train=[]\n",
    "\n",
    "for x in range(prediction_days, len(scaled_data)):\n",
    "    x_train.append(scaled_data[x-prediction_days:x, 0])\n",
    "    y_train.append(scaled_data[x, 0])\n",
    "\n",
    "x_train, y_train = np.array(x_train), np.array(y_train)\n",
    "x_train = np.reshape(x_train, (x_train.shape[0], x_train.shape[1], 1))"
   ]
  },
  {
   "cell_type": "code",
   "execution_count": 15,
   "metadata": {},
   "outputs": [
    {
     "name": "stdout",
     "output_type": "stream",
     "text": [
      "Epoch 1/25\n",
      "77/77 [==============================] - 4s 31ms/step - loss: 0.0099\n",
      "Epoch 2/25\n",
      "77/77 [==============================] - 3s 35ms/step - loss: 0.0016\n",
      "Epoch 3/25\n",
      "77/77 [==============================] - 3s 36ms/step - loss: 0.0015\n",
      "Epoch 4/25\n",
      "77/77 [==============================] - 3s 38ms/step - loss: 0.0015\n",
      "Epoch 5/25\n",
      "77/77 [==============================] - 3s 36ms/step - loss: 0.0016\n",
      "Epoch 6/25\n",
      "77/77 [==============================] - 3s 36ms/step - loss: 0.0012\n",
      "Epoch 7/25\n",
      "77/77 [==============================] - 3s 36ms/step - loss: 0.0012\n",
      "Epoch 8/25\n",
      "77/77 [==============================] - 3s 36ms/step - loss: 0.0013\n",
      "Epoch 9/25\n",
      "77/77 [==============================] - 3s 36ms/step - loss: 0.0013\n",
      "Epoch 10/25\n",
      "77/77 [==============================] - 3s 36ms/step - loss: 0.0013\n",
      "Epoch 11/25\n",
      "77/77 [==============================] - 3s 37ms/step - loss: 0.0011\n",
      "Epoch 12/25\n",
      "77/77 [==============================] - 3s 36ms/step - loss: 0.0011\n",
      "Epoch 13/25\n",
      "77/77 [==============================] - 3s 38ms/step - loss: 0.0010\n",
      "Epoch 14/25\n",
      "77/77 [==============================] - 3s 37ms/step - loss: 8.5987e-04\n",
      "Epoch 15/25\n",
      "77/77 [==============================] - 3s 37ms/step - loss: 9.9105e-04\n",
      "Epoch 16/25\n",
      "77/77 [==============================] - 3s 37ms/step - loss: 9.7942e-04\n",
      "Epoch 17/25\n",
      "77/77 [==============================] - 3s 37ms/step - loss: 9.6897e-04\n",
      "Epoch 18/25\n",
      "77/77 [==============================] - 3s 37ms/step - loss: 8.5197e-04\n",
      "Epoch 19/25\n",
      "77/77 [==============================] - 4s 52ms/step - loss: 8.3753e-04\n",
      "Epoch 20/25\n",
      "77/77 [==============================] - 4s 57ms/step - loss: 8.7655e-04\n",
      "Epoch 21/25\n",
      "77/77 [==============================] - 3s 40ms/step - loss: 8.1307e-04\n",
      "Epoch 22/25\n",
      "77/77 [==============================] - 3s 39ms/step - loss: 7.5072e-04\n",
      "Epoch 23/25\n",
      "77/77 [==============================] - 3s 36ms/step - loss: 6.7685e-04\n",
      "Epoch 24/25\n",
      "77/77 [==============================] - 3s 38ms/step - loss: 8.8930e-04\n",
      "Epoch 25/25\n",
      "77/77 [==============================] - 3s 38ms/step - loss: 8.8165e-04\n"
     ]
    },
    {
     "data": {
      "text/plain": [
       "<keras.callbacks.History at 0x283e121c0>"
      ]
     },
     "execution_count": 15,
     "metadata": {},
     "output_type": "execute_result"
    }
   ],
   "source": [
    "#Build the Model\n",
    "model = Sequential()\n",
    "\n",
    "model.add(LSTM(units=50, return_sequences=True, input_shape=(x_train.shape[1], 1)))\n",
    "model.add(Dropout(0.2))\n",
    "model.add(LSTM(units=50, return_sequences=True))\n",
    "model.add(Dropout(0.2))\n",
    "model.add(LSTM(units=50))\n",
    "model.add(Dropout(0.2))\n",
    "model.add(Dense(units=1)) #prediction of the next closing value\n",
    "\n",
    "model.compile(optimizer='adam', loss='mean_squared_error')\n",
    "model.fit(x_train, y_train, epochs=25, batch_size=32)"
   ]
  },
  {
   "cell_type": "code",
   "execution_count": 24,
   "metadata": {},
   "outputs": [],
   "source": [
    "'''Test the model accuracy on existing data'''\n",
    "\n",
    "#Load Test Data\n",
    "test_start='2020-01-01'\n",
    "test_end='2022-03-25'\n",
    "test_data = api.get_df_stock_daily(company, test_start, test_end)\n",
    "\n",
    "actual_prices=test_data['Close'].values\n",
    "\n",
    "total_dataset=pd.concat((data['Close'], test_data['Close']), axis=0)\n",
    "\n",
    "model_inputs=total_dataset[len(total_dataset)-len(test_data)-prediction_days:].values\n",
    "model_inputs = model_inputs.reshape(-1, 1)\n",
    "model_inputs = scaler.transform(model_inputs)"
   ]
  },
  {
   "cell_type": "code",
   "execution_count": 25,
   "metadata": {},
   "outputs": [],
   "source": [
    "# Make Predictions on Test Data\n",
    "x_test=[]\n",
    "\n",
    "for x in range(prediction_days, len(model_inputs)):\n",
    "    x_test.append(model_inputs[x-prediction_days:x, 0])\n",
    "\n",
    "x_test=np.array(x_test)\n",
    "x_test=np.reshape(x_test, (x_test.shape[0], x_test.shape[1], 1))\n",
    "\n",
    "predicted_prices=model.predict(x_test)\n",
    "predicted_prices=scaler.inverse_transform(predicted_prices)"
   ]
  },
  {
   "cell_type": "code",
   "execution_count": 26,
   "metadata": {},
   "outputs": [
    {
     "data": {
      "image/png": "[encoded data removed]",
      "text/plain": [
       "<Figure size 432x288 with 1 Axes>"
      ]
     },
     "metadata": {
      "needs_background": "light"
     },
     "output_type": "display_data"
    }
   ],
   "source": [
    "# Plot the test predictions\n",
    "plt.plot(actual_prices, color = \"black\", label=f\"Actual {company} Price\")\n",
    "plt.plot(predicted_prices, color=\"green\", label=f\"Predicted {company} Price\")\n",
    "plt.title(f\"{company} Share Price\")\n",
    "plt.xlabel(\"Time\")\n",
    "plt.ylabel(f\"{company} Share Price\")\n",
    "plt.legend()\n",
    "plt.show()"
   ]
  },
  {
   "cell_type": "code",
   "execution_count": null,
   "metadata": {},
   "outputs": [],
   "source": [
    "#Predict Next Day\n",
    "\n",
    "real_data = [model_inputs[len(model_inputs)+1-prediction_days:len(model_inputs+1), 0]]\n",
    "real_data = np.array(real_data)\n",
    "real_data=np.reshape(real_data, (real_data.shape[0], real_data.shape[1],1))\n",
    "\n",
    "prediction=model.predict(real_data)\n",
    "prediction = scaler.inverse_transform(prediction)\n",
    "print(f\"Prediction: {prediction}\")"
   ]
  }
 ],
 "metadata": {
  "interpreter": {
   "hash": "8b2a4ccb8e65f19440174776a42fe422935672eb46806908ee7044aabe35ab48"
  },
  "kernelspec": {
   "display_name": "Python 3.9.7 ('clustering_exercise')",
   "language": "python",
   "name": "python3"
  },
  "language_info": {
   "codemirror_mode": {
    "name": "ipython",
    "version": 3
   },
   "file_extension": ".py",
   "mimetype": "text/x-python",
   "name": "python",
   "nbconvert_exporter": "python",
   "pygments_lexer": "ipython3",
   "version": "3.8.13"
  },
  "orig_nbformat": 4
 },
 "nbformat": 4,
 "nbformat_minor": 2
}
