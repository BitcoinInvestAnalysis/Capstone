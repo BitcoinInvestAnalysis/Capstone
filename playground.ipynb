{
 "cells": [
  {
   "cell_type": "code",
   "execution_count": 1,
   "metadata": {},
   "outputs": [],
   "source": [
    "import numpy as np\n",
    "import pandas as pd\n",
    "import matplotlib.pyplot as plt\n",
    "import plot_function as plot\n",
    "\n",
    "import pandas_datareader as web\n",
    "import datetime as dt\n",
    "import mplfinance as mpf\n",
    "import ml_function as ml"
   ]
  },
  {
   "cell_type": "code",
   "execution_count": null,
   "metadata": {},
   "outputs": [],
   "source": [
    "ml.svr_price_prediction(company='FB')"
   ]
  },
  {
   "cell_type": "code",
   "execution_count": null,
   "metadata": {},
   "outputs": [],
   "source": [
    "df_apple = web.DataReader(\"AAPL\", \"yahoo\", dt.date(2012, 1, 1), dt.date.today())\n",
    "df_apple\n"
   ]
  },
  {
   "cell_type": "code",
   "execution_count": null,
   "metadata": {},
   "outputs": [],
   "source": [
    "plot.plot_ohlc(df_apple)\n"
   ]
  },
  {
   "cell_type": "code",
   "execution_count": null,
   "metadata": {},
   "outputs": [],
   "source": [
    "data = web.DataReader(\"BTC-USD\", \"yahoo\", dt.date(2021, 1, 1), dt.date.today())\n",
    "mpf.plot(\n",
    "    data,\n",
    "    type=\"candle\",\n",
    "    volume=False,\n",
    "    style=\"yahoo\",\n",
    "    figsize=(20, 10),\n",
    "    savefig=\"plot/BTC_share_price.png\",\n",
    ")\n"
   ]
  },
  {
   "cell_type": "code",
   "execution_count": null,
   "metadata": {},
   "outputs": [],
   "source": [
    "data = web.DataReader(\"AAPL\", \"yahoo\", dt.date(2021, 1, 1), dt.date.today())\n",
    "mpf.plot(\n",
    "    data,\n",
    "    type=\"candle\",\n",
    "    volume=False,\n",
    "    style=\"yahoo\",\n",
    "    figsize=(20, 10),\n",
    "    savefig=\"plot/AAPL_share_price.png\",\n",
    ")\n"
   ]
  },
  {
   "cell_type": "code",
   "execution_count": null,
   "metadata": {},
   "outputs": [],
   "source": [
    "data = web.DataReader(\"FB\", \"yahoo\", dt.date(2021, 1, 1), dt.date.today())\n",
    "mpf.plot(\n",
    "    data,\n",
    "    type=\"candle\",\n",
    "    volume=False,\n",
    "    style=\"yahoo\",\n",
    "    figsize=(20, 10),\n",
    "    savefig=\"plot/FB_share_price.png\",\n",
    ")\n"
   ]
  },
  {
   "cell_type": "code",
   "execution_count": null,
   "metadata": {},
   "outputs": [],
   "source": [
    "data = web.DataReader(\"GOOG\", \"yahoo\", dt.date(2021, 1, 1), dt.date.today())\n",
    "mpf.plot(\n",
    "    data,\n",
    "    type=\"candle\",\n",
    "    volume=False,\n",
    "    style=\"yahoo\",\n",
    "    figsize=(20, 10),\n",
    "    savefig=\"plot/GOOG_share_price.png\",\n",
    ")\n"
   ]
  },
  {
   "cell_type": "code",
   "execution_count": null,
   "metadata": {},
   "outputs": [],
   "source": [
    "data = web.DataReader(\"MSFT\", \"yahoo\", dt.date(2021, 1, 1), dt.date.today())\n",
    "mpf.plot(\n",
    "    data,\n",
    "    type=\"candle\",\n",
    "    volume=False,\n",
    "    style=\"yahoo\",\n",
    "    figsize=(20, 10),\n",
    "    savefig=\"plot/MSFT_share_price.png\",\n",
    ")\n"
   ]
  },
  {
   "cell_type": "code",
   "execution_count": null,
   "metadata": {},
   "outputs": [],
   "source": [
    "data = web.DataReader(\"TSLA\", \"yahoo\", dt.date(2021, 1, 1), dt.date.today())\n",
    "mpf.plot(\n",
    "    data,\n",
    "    type=\"candle\",\n",
    "    volume=False,\n",
    "    style=\"yahoo\",\n",
    "    figsize=(20, 10),\n",
    "    savefig=\"plot/TSLA_share_price.png\",\n",
    ")\n"
   ]
  },
  {
   "cell_type": "code",
   "execution_count": null,
   "metadata": {},
   "outputs": [],
   "source": [
    "mpf.plot(data, type=\"ohlc\", volume=True, style=\"yahoo\")\n"
   ]
  },
  {
   "cell_type": "code",
   "execution_count": null,
   "metadata": {},
   "outputs": [],
   "source": [
    "ml.lstm_price_prediction(company='BTC-USD')"
   ]
  }
 ],
 "metadata": {
  "interpreter": {
   "hash": "8b2a4ccb8e65f19440174776a42fe422935672eb46806908ee7044aabe35ab48"
  },
  "kernelspec": {
   "display_name": "Python 3.9.7 ('clustering_exercise')",
   "language": "python",
   "name": "python3"
  },
  "language_info": {
   "codemirror_mode": {
    "name": "ipython",
    "version": 3
   },
   "file_extension": ".py",
   "mimetype": "text/x-python",
   "name": "python",
   "nbconvert_exporter": "python",
   "pygments_lexer": "ipython3",
   "version": "3.8.13"
  },
  "orig_nbformat": 4
 },
 "nbformat": 4,
 "nbformat_minor": 2
}
