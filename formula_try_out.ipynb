{
 "cells": [
  {
   "cell_type": "code",
   "execution_count": 309,
   "metadata": {},
   "outputs": [],
   "source": [
    "import pandas as pd\n",
    "import numpy as np\n",
    "import matplotlib.pyplot as plt\n",
    "import plotly.express as px\n",
    "\n",
    "import plot_function\n",
    "import stock_function"
   ]
  },
  {
   "cell_type": "code",
   "execution_count": 310,
   "metadata": {},
   "outputs": [
    {
     "data": {
      "text/html": [
       "<div>\n",
       "<style scoped>\n",
       "    .dataframe tbody tr th:only-of-type {\n",
       "        vertical-align: middle;\n",
       "    }\n",
       "\n",
       "    .dataframe tbody tr th {\n",
       "        vertical-align: top;\n",
       "    }\n",
       "\n",
       "    .dataframe thead th {\n",
       "        text-align: right;\n",
       "    }\n",
       "</style>\n",
       "<table border=\"1\" class=\"dataframe\">\n",
       "  <thead>\n",
       "    <tr style=\"text-align: right;\">\n",
       "      <th></th>\n",
       "      <th>open</th>\n",
       "      <th>high</th>\n",
       "      <th>low</th>\n",
       "      <th>close</th>\n",
       "      <th>volume</th>\n",
       "    </tr>\n",
       "    <tr>\n",
       "      <th>timestamp</th>\n",
       "      <th></th>\n",
       "      <th></th>\n",
       "      <th></th>\n",
       "      <th></th>\n",
       "      <th></th>\n",
       "    </tr>\n",
       "  </thead>\n",
       "  <tbody>\n",
       "    <tr>\n",
       "      <th>2022-03-21</th>\n",
       "      <td>163.51</td>\n",
       "      <td>166.35</td>\n",
       "      <td>163.015</td>\n",
       "      <td>165.38</td>\n",
       "      <td>89029269</td>\n",
       "    </tr>\n",
       "    <tr>\n",
       "      <th>2022-03-18</th>\n",
       "      <td>160.51</td>\n",
       "      <td>164.48</td>\n",
       "      <td>159.760</td>\n",
       "      <td>163.98</td>\n",
       "      <td>122055535</td>\n",
       "    </tr>\n",
       "    <tr>\n",
       "      <th>2022-03-17</th>\n",
       "      <td>158.61</td>\n",
       "      <td>161.00</td>\n",
       "      <td>157.630</td>\n",
       "      <td>160.62</td>\n",
       "      <td>75615376</td>\n",
       "    </tr>\n",
       "    <tr>\n",
       "      <th>2022-03-16</th>\n",
       "      <td>157.05</td>\n",
       "      <td>160.00</td>\n",
       "      <td>154.460</td>\n",
       "      <td>159.59</td>\n",
       "      <td>102300157</td>\n",
       "    </tr>\n",
       "    <tr>\n",
       "      <th>2022-03-15</th>\n",
       "      <td>150.90</td>\n",
       "      <td>155.57</td>\n",
       "      <td>150.380</td>\n",
       "      <td>155.09</td>\n",
       "      <td>92964302</td>\n",
       "    </tr>\n",
       "  </tbody>\n",
       "</table>\n",
       "</div>"
      ],
      "text/plain": [
       "              open    high      low   close     volume\n",
       "timestamp                                             \n",
       "2022-03-21  163.51  166.35  163.015  165.38   89029269\n",
       "2022-03-18  160.51  164.48  159.760  163.98  122055535\n",
       "2022-03-17  158.61  161.00  157.630  160.62   75615376\n",
       "2022-03-16  157.05  160.00  154.460  159.59  102300157\n",
       "2022-03-15  150.90  155.57  150.380  155.09   92964302"
      ]
     },
     "execution_count": 310,
     "metadata": {},
     "output_type": "execute_result"
    }
   ],
   "source": [
    "df_apple = pd.read_csv('data/apple-daily.csv', index_col='timestamp')\n",
    "df_apple.head()"
   ]
  },
  {
   "cell_type": "code",
   "execution_count": 311,
   "metadata": {},
   "outputs": [],
   "source": [
    "def add_log_returns_column(df, start_date, end_date):\n",
    "    df.columns = [col.replace(\" \", \"_\").lower() for col in df.columns]\n",
    "\n",
    "    df.index = pd.to_datetime(df.index)\n",
    "    mask = (df.index >= start_date) & (df.index <= end_date)\n",
    "    df = df.loc[mask].reset_index()\n",
    "    df[\"log_returns\"] = np.log(df.close / df.close.shift())\n",
    "    return df"
   ]
  },
  {
   "cell_type": "code",
   "execution_count": 313,
   "metadata": {},
   "outputs": [
    {
     "data": {
      "text/html": [
       "<div>\n",
       "<style scoped>\n",
       "    .dataframe tbody tr th:only-of-type {\n",
       "        vertical-align: middle;\n",
       "    }\n",
       "\n",
       "    .dataframe tbody tr th {\n",
       "        vertical-align: top;\n",
       "    }\n",
       "\n",
       "    .dataframe thead th {\n",
       "        text-align: right;\n",
       "    }\n",
       "</style>\n",
       "<table border=\"1\" class=\"dataframe\">\n",
       "  <thead>\n",
       "    <tr style=\"text-align: right;\">\n",
       "      <th></th>\n",
       "      <th>timestamp</th>\n",
       "      <th>open</th>\n",
       "      <th>high</th>\n",
       "      <th>low</th>\n",
       "      <th>close</th>\n",
       "      <th>volume</th>\n",
       "      <th>log_returns</th>\n",
       "    </tr>\n",
       "  </thead>\n",
       "  <tbody>\n",
       "    <tr>\n",
       "      <th>0</th>\n",
       "      <td>2020-12-31</td>\n",
       "      <td>134.08</td>\n",
       "      <td>134.740</td>\n",
       "      <td>131.7200</td>\n",
       "      <td>132.69</td>\n",
       "      <td>99116586</td>\n",
       "      <td>NaN</td>\n",
       "    </tr>\n",
       "    <tr>\n",
       "      <th>1</th>\n",
       "      <td>2020-12-30</td>\n",
       "      <td>135.58</td>\n",
       "      <td>135.990</td>\n",
       "      <td>133.4000</td>\n",
       "      <td>133.72</td>\n",
       "      <td>96452124</td>\n",
       "      <td>0.007732</td>\n",
       "    </tr>\n",
       "    <tr>\n",
       "      <th>2</th>\n",
       "      <td>2020-12-29</td>\n",
       "      <td>138.05</td>\n",
       "      <td>138.789</td>\n",
       "      <td>134.3409</td>\n",
       "      <td>134.87</td>\n",
       "      <td>121047324</td>\n",
       "      <td>0.008563</td>\n",
       "    </tr>\n",
       "    <tr>\n",
       "      <th>3</th>\n",
       "      <td>2020-12-28</td>\n",
       "      <td>133.99</td>\n",
       "      <td>137.340</td>\n",
       "      <td>133.5100</td>\n",
       "      <td>136.69</td>\n",
       "      <td>123124632</td>\n",
       "      <td>0.013404</td>\n",
       "    </tr>\n",
       "    <tr>\n",
       "      <th>4</th>\n",
       "      <td>2020-12-24</td>\n",
       "      <td>131.32</td>\n",
       "      <td>133.460</td>\n",
       "      <td>131.1000</td>\n",
       "      <td>131.97</td>\n",
       "      <td>54930064</td>\n",
       "      <td>-0.035141</td>\n",
       "    </tr>\n",
       "    <tr>\n",
       "      <th>...</th>\n",
       "      <td>...</td>\n",
       "      <td>...</td>\n",
       "      <td>...</td>\n",
       "      <td>...</td>\n",
       "      <td>...</td>\n",
       "      <td>...</td>\n",
       "      <td>...</td>\n",
       "    </tr>\n",
       "    <tr>\n",
       "      <th>500</th>\n",
       "      <td>2019-01-08</td>\n",
       "      <td>149.56</td>\n",
       "      <td>151.820</td>\n",
       "      <td>148.5200</td>\n",
       "      <td>150.75</td>\n",
       "      <td>41025314</td>\n",
       "      <td>-0.016839</td>\n",
       "    </tr>\n",
       "    <tr>\n",
       "      <th>501</th>\n",
       "      <td>2019-01-07</td>\n",
       "      <td>148.70</td>\n",
       "      <td>148.830</td>\n",
       "      <td>145.9000</td>\n",
       "      <td>147.93</td>\n",
       "      <td>54777764</td>\n",
       "      <td>-0.018884</td>\n",
       "    </tr>\n",
       "    <tr>\n",
       "      <th>502</th>\n",
       "      <td>2019-01-04</td>\n",
       "      <td>144.53</td>\n",
       "      <td>148.550</td>\n",
       "      <td>143.8000</td>\n",
       "      <td>148.26</td>\n",
       "      <td>58607070</td>\n",
       "      <td>0.002228</td>\n",
       "    </tr>\n",
       "    <tr>\n",
       "      <th>503</th>\n",
       "      <td>2019-01-03</td>\n",
       "      <td>143.98</td>\n",
       "      <td>145.720</td>\n",
       "      <td>142.0000</td>\n",
       "      <td>142.19</td>\n",
       "      <td>91312195</td>\n",
       "      <td>-0.041803</td>\n",
       "    </tr>\n",
       "    <tr>\n",
       "      <th>504</th>\n",
       "      <td>2019-01-02</td>\n",
       "      <td>154.89</td>\n",
       "      <td>158.850</td>\n",
       "      <td>154.2300</td>\n",
       "      <td>157.92</td>\n",
       "      <td>37039737</td>\n",
       "      <td>0.104924</td>\n",
       "    </tr>\n",
       "  </tbody>\n",
       "</table>\n",
       "<p>505 rows × 7 columns</p>\n",
       "</div>"
      ],
      "text/plain": [
       "     timestamp    open     high       low   close     volume  log_returns\n",
       "0   2020-12-31  134.08  134.740  131.7200  132.69   99116586          NaN\n",
       "1   2020-12-30  135.58  135.990  133.4000  133.72   96452124     0.007732\n",
       "2   2020-12-29  138.05  138.789  134.3409  134.87  121047324     0.008563\n",
       "3   2020-12-28  133.99  137.340  133.5100  136.69  123124632     0.013404\n",
       "4   2020-12-24  131.32  133.460  131.1000  131.97   54930064    -0.035141\n",
       "..         ...     ...      ...       ...     ...        ...          ...\n",
       "500 2019-01-08  149.56  151.820  148.5200  150.75   41025314    -0.016839\n",
       "501 2019-01-07  148.70  148.830  145.9000  147.93   54777764    -0.018884\n",
       "502 2019-01-04  144.53  148.550  143.8000  148.26   58607070     0.002228\n",
       "503 2019-01-03  143.98  145.720  142.0000  142.19   91312195    -0.041803\n",
       "504 2019-01-02  154.89  158.850  154.2300  157.92   37039737     0.104924\n",
       "\n",
       "[505 rows x 7 columns]"
      ]
     },
     "execution_count": 313,
     "metadata": {},
     "output_type": "execute_result"
    }
   ],
   "source": [
    "df_apple = add_log_returns_column(df_apple, '2019-01-01', '2020-12-31')\n",
    "df_apple"
   ]
  },
  {
   "cell_type": "code",
   "execution_count": 321,
   "metadata": {},
   "outputs": [
    {
     "name": "stdout",
     "output_type": "stream",
     "text": [
      "yes\n"
     ]
    }
   ],
   "source": [
    "if 'log_returns' in df_apple.columns:\n",
    "    print('yes')\n",
    "else:\n",
    "    print('no')"
   ]
  },
  {
   "cell_type": "code",
   "execution_count": 316,
   "metadata": {},
   "outputs": [],
   "source": [
    "def calc_volatility(df, start_date, end_date, trading_day): \n",
    "    if 'log_returns' in df.columns:\n",
    "        return df['log_returns'].std()*trading_day**0.5\n",
    "    else: \n",
    "        df = add_log_returns_column(df, start_date, end_date)\n",
    "        return df['log_returns'].std()*trading_day**0.5"
   ]
  },
  {
   "cell_type": "code",
   "execution_count": 318,
   "metadata": {},
   "outputs": [
    {
     "data": {
      "text/plain": [
       "1.0304048855268204"
      ]
     },
     "execution_count": 318,
     "metadata": {},
     "output_type": "execute_result"
    }
   ],
   "source": [
    "calc_volatility(df_apple, '2020-01-01', '2020-12-31', 252)"
   ]
  },
  {
   "cell_type": "code",
   "execution_count": 300,
   "metadata": {},
   "outputs": [
    {
     "data": {
      "text/html": [
       "<div>\n",
       "<style scoped>\n",
       "    .dataframe tbody tr th:only-of-type {\n",
       "        vertical-align: middle;\n",
       "    }\n",
       "\n",
       "    .dataframe tbody tr th {\n",
       "        vertical-align: top;\n",
       "    }\n",
       "\n",
       "    .dataframe thead th {\n",
       "        text-align: right;\n",
       "    }\n",
       "</style>\n",
       "<table border=\"1\" class=\"dataframe\">\n",
       "  <thead>\n",
       "    <tr style=\"text-align: right;\">\n",
       "      <th></th>\n",
       "      <th>index</th>\n",
       "      <th>timestamp</th>\n",
       "      <th>open</th>\n",
       "      <th>high</th>\n",
       "      <th>low</th>\n",
       "      <th>close</th>\n",
       "      <th>volume</th>\n",
       "      <th>log_returns</th>\n",
       "    </tr>\n",
       "  </thead>\n",
       "  <tbody>\n",
       "  </tbody>\n",
       "</table>\n",
       "</div>"
      ],
      "text/plain": [
       "Empty DataFrame\n",
       "Columns: [index, timestamp, open, high, low, close, volume, log_returns]\n",
       "Index: []"
      ]
     },
     "execution_count": 300,
     "metadata": {},
     "output_type": "execute_result"
    }
   ],
   "source": [
    "df = df_apple\n",
    "start_date = '2020-01-01'\n",
    "end_date = '2020-12-31'\n",
    "trading_day = 252\n",
    "\n",
    "df.columns  = [col.replace(' ', '_').lower() for col in df.columns]\n",
    "df.index = pd.to_datetime(df.index)\n",
    "mask = (df.index >= start_date) & (df.index <= end_date)\n",
    "df = df.loc[mask].reset_index()\n",
    "# df.describe()\n",
    "df\n",
    "# df['log_returns'] = np.log(df.close / df.close.shift())\n",
    "# volatility = df['log_returns'].std()*trading_day**0.5\n",
    "# volatility"
   ]
  },
  {
   "cell_type": "code",
   "execution_count": 294,
   "metadata": {},
   "outputs": [
    {
     "data": {
      "text/plain": [
       "nan"
      ]
     },
     "execution_count": 294,
     "metadata": {},
     "output_type": "execute_result"
    }
   ],
   "source": [
    "volatility = stock_function.calc_volatility(df_apple, '2019-01-01', '2020-12-31', 252)\n",
    "volatility"
   ]
  },
  {
   "cell_type": "code",
   "execution_count": 295,
   "metadata": {},
   "outputs": [
    {
     "data": {
      "text/plain": [
       "Text(0.5, 1.0, 'AAPL volatility: nan%')"
      ]
     },
     "execution_count": 295,
     "metadata": {},
     "output_type": "execute_result"
    },
    {
     "data": {
      "image/png": "[encoded data removed]",
      "text/plain": [
       "<Figure size 432x288 with 1 Axes>"
      ]
     },
     "metadata": {
      "needs_background": "light"
     },
     "output_type": "display_data"
    }
   ],
   "source": [
    "volatility = calc_volatility(df_apple, '2019-01-01', '2020-12-31', 252)\n",
    "str_vol = str(round(volatility, 4)*100)\n",
    "\n",
    "fig, ax = plt.subplots()\n",
    "df_apple['log_returns'].hist(ax=ax, bins=50, alpha=0.6, color='b')\n",
    "ax.set_xlabel('Log return')\n",
    "ax.set_ylabel('Freq of log return')\n",
    "ax.set_title('AAPL volatility: ' + str_vol + '%')"
   ]
  },
  {
   "cell_type": "code",
   "execution_count": 297,
   "metadata": {},
   "outputs": [
    {
     "data": {
      "application/vnd.plotly.v1+json": {
       "config": {
        "plotlyServerURL": "https://plot.ly"
       },
       "data": [
        {
         "alignmentgroup": "True",
         "bingroup": "x",
         "hovertemplate": "log_returns=%{x}<br>count=%{y}<extra></extra>",
         "legendgroup": "",
         "marker": {
          "color": "#636efa",
          "pattern": {
           "shape": ""
          }
         },
         "name": "",
         "offsetgroup": "",
         "orientation": "v",
         "showlegend": false,
         "type": "histogram",
         "x": [
          null,
          0.007732481003552772,
          0.008563289976868473,
          0.013404236635795305,
          -0.0351409641358235,
          -0.0076826909658585405,
          0.00700048514065076,
          -0.028066891732505882,
          -0.012358671923810743,
          0.01601726005486716,
          -0.006939328458457891,
          0.0005475380480176882,
          -0.048876186011212665,
          0.005159927906993031,
          0.006757607641046005,
          -0.01191753554803912,
          0.021125257495315106,
          -0.005077994226943471,
          -0.012195273093818243,
          0.005628303123881993,
          0.0011381189749776995,
          -0.002929212834895047,
          -0.030361764686074332,
          -0.020880065987671743,
          -0.004814728585746011,
          -0.007439480678638012,
          -0.011527505171067496,
          0.030193910987965367,
          0.011017994331962789,
          -0.005154868388698981,
          0.011456615916319263,
          0.007593177623336132,
          -0.008682639285673319,
          -0.00041933996504968444,
          0.002346042131752285,
          -0.029901148893050632,
          0.0030134768165972744,
          0.020170038283204614,
          0.002860510111374554,
          -0.03487831097059789,
          -0.040024864147236945,
          -0.015236825956194765,
          0.0008270919002950656,
          0.057648219764147336,
          -0.03638049095371929,
          0.047418892099909925,
          -0.0133824574350171,
          -0.0000869225086382283,
          0.006152798993606927,
          0.00962951297872233,
          0.005461230400783886,
          -0.013105673897555079,
          0.02587378376841133,
          0.01409942849632965,
          0.003968587267360456,
          -0.0007429114213494698,
          0.026885529746032494,
          -0.06158468864246348,
          -0.017246266896966792,
          0.0009563139176984257,
          -0.016824792249980704,
          0.029088526572388758,
          -0.030326478804058053,
          0.03281265608877677,
          -0.008426533094187744,
          -0.014963306588008325,
          0.007596631162491449,
          -0.023588490277087707,
          -0.03682955927909256,
          -0.010216490831672118,
          0.04285130077635968,
          -0.01559362797424328,
          -0.02987498594327338,
          0.0322341196025245,
          0.01609240462850447,
          0.029957877880330244,
          -0.0016024603355476032,
          -0.029515458722477333,
          0.013215856017953016,
          0.0331905167962026,
          -0.03911161579742023,
          0.06966628411939292,
          -0.000661594466738773,
          0.08344778808602617,
          0.020936076084231956,
          -0.03905974831778863,
          1.3529444775864092,
          0.0016211838189999106,
          0.012026423861538574,
          -0.013507401577337475,
          0.008237558174616513,
          -0.01188932089563975,
          -0.05024857214843783,
          -0.021946966600857265,
          -0.0012539457690109858,
          -0.008298261981958653,
          0.0026142097104964825,
          0.0008916242286088547,
          -0.017542770732430654,
          -0.032693965694280964,
          0.03019105724993336,
          -0.014430200359918627,
          0.024799617722604476,
          -0.03429443303397281,
          -0.0036181218430359477,
          -0.006655941133149295,
          -0.024885402257442422,
          -0.09956351885827304,
          -0.0120275465501893,
          -0.01898698779830772,
          0.01656402111384074,
          -0.02342377335518149,
          0.0024803204778725595,
          0.04658488215369464,
          -0.00280533970287082,
          0.013897821685483496,
          -0.020854956211207157,
          0.0020222978113291906,
          0.012381269890030036,
          -0.0068538252972206275,
          -0.016412968747887578,
          0.004623893085348554,
          -0.0017477733387802783,
          -0.004291066005066547,
          -0.02302305760160735,
          0.003107672552229332,
          -0.026398627659544722,
          0,
          0.0018932384137965747,
          -0.0083129659266875,
          -0.022785123479888713,
          0.031207732518357467,
          -0.01318821708248108,
          0.017809689136073253,
          -0.021120167449104353,
          -0.025827371603754992,
          0.005731001500977559,
          -0.00039811181780449755,
          0.001392698506972689,
          -0.026157130280847717,
          -0.012291329444088879,
          -0.008596466159652373,
          0.049201199772319015,
          -0.025402109207143423,
          -0.031089669051109905,
          -0.00589510850639552,
          -0.028082968742825364,
          0.008649504066970605,
          -0.005489943776602141,
          -0.0046188026748353,
          -0.012222912765899215,
          0.0009745517047902076,
          -0.0004400025213987825,
          -0.004347558986973896,
          0.006796539802791485,
          -0.00641773996240854,
          0.00748337035222394,
          -0.01926147123837308,
          0.005795271752105189,
          -0.02328786564805275,
          0.005929543497184395,
          -0.006124551298114372,
          0.01214759873567952,
          0.01149401243130551,
          -0.015612819940248563,
          -0.02081949211111186,
          -0.010291799563776738,
          -0.010264387415206522,
          -0.01489735026549114,
          -0.014049661741549433,
          0.01623039042367702,
          -0.02087672333180739,
          -0.032317269148084186,
          0.016342152745077585,
          -0.0007065390480090968,
          -0.028460702331272035,
          0.003882936310427119,
          -0.028396493558131376,
          0.0313981412921924,
          0.02097516735224797,
          0.013661558593441607,
          -0.00791431501788177,
          0.009169239015668303,
          -0.04926928955699786,
          -0.01943746067479046,
          -0.007190234325386754,
          -0.025272515357777088,
          0.011649873087589477,
          -0.08364005696013188,
          0.014475722608758887,
          -0.016549035675226902,
          0.054051928261692875,
          0.00204282137432796,
          -0.028138360269649793,
          0.042283749563910726,
          -0.051285148378483976,
          0.0055239783033698975,
          -0.09560591374316477,
          0.021473014811850936,
          0.06559035827065555,
          0.007691562998120154,
          0.024784564931439074,
          -0.04303085742551644,
          0.13770807574023827,
          -0.11315745846627419,
          0.10397777709151909,
          0.03534793886294985,
          -0.06954624929660111,
          0.08239528656324495,
          0.013369045239556945,
          0.03297481714155007,
          -0.045341009353339186,
          0.03227457791970985,
          -0.08901831209375334,
          0.000585137524009414,
          0.06760261040618394,
          -0.015739136396610037,
          0.034459111659633265,
          0.0486655911910665,
          0.02289513442379311,
          0.010311931356549418,
          -0.014378885186817498,
          0.0184802215555132,
          -0.0002462220319600746,
          0.007146502420194121,
          -0.02347010221457707,
          0.006051550066857419,
          -0.004738311181356704,
          0.01605638610886197,
          -0.01162911692068179,
          -0.008121237826414931,
          -0.03248042528859517,
          0.0027500543077086355,
          0.04535179892790682,
          0.0014501475829272008,
          -0.020716283746587114,
          -0.02789661303765259,
          0.029846299189851475,
          0.002886095424909772,
          -0.004804304846279472,
          -0.0035631551091703864,
          0.006799963239740573,
          -0.011010095920591925,
          -0.01244869087774561,
          0.004294740744426425,
          0.013595279598110948,
          -0.02113933553753054,
          -0.002258211166758625,
          -0.021018364551980633,
          -0.015958315990250143,
          0.004714229964776566,
          -0.00793668248646385,
          0.009769558114137038,
          -0.022559879327642057,
          -0.007279967896934999,
          -0.005917584185011375,
          0.00037950009942965663,
          -0.01964603923249208,
          -0.0009502525923135888,
          -0.016186637662629465,
          0.002073428691202591,
          -0.0010004288386213202,
          0.0023922175114439474,
          -0.0019633397350344623,
          -0.016973074621799637,
          -0.013501604635948754,
          -0.0025450468341574163,
          -0.008493328756820044,
          -0.005827435243435538,
          0.014099149165929161,
          -0.019132023639153607,
          -0.014564468934846793,
          -0.008787638813586032,
          0.017990974358069428,
          0.0116295697333367,
          0.0022052373959556963,
          -0.013342802199318295,
          0.007839334610553111,
          -0.017381863348771957,
          0.0008782146080777983,
          0.004493533836751277,
          0.011709735672908138,
          0.0030371796346048384,
          -0.00502947425093053,
          -0.011809372671647562,
          0.006943550122212106,
          -0.00953600296569643,
          0.00091575097974667,
          -0.007887623694004732,
          -0.0027330309369011374,
          -0.008477415432031073,
          -0.0004277076877613321,
          0.0014379265248897497,
          -0.006545647932543748,
          -0.02798549593555859,
          -0.022357746045398173,
          0.00012331723373960093,
          0.023399532095262392,
          -0.009967195078885664,
          -0.012241053781442206,
          -0.0016435207906923348,
          -0.013329667083379784,
          0.0022894259380775274,
          -0.01719408290126352,
          -0.0047912915759668615,
          -0.0038752310819563833,
          0.004045226832472033,
          0.0023345157995288256,
          0.001440434073832475,
          -0.026250703138175235,
          -0.013388369391907445,
          -0.011651993690992669,
          0.011784126087846219,
          -0.00022023036184771864,
          -0.027646179363549014,
          -0.008458825278567205,
          0.025387452983207593,
          -0.002764403401252017,
          -0.023262640265735542,
          0.004877947262035282,
          0.005171017600671671,
          -0.015272344436359973,
          0.004766278500648543,
          -0.0045366099114119,
          0.01472592659675455,
          0.008158159415800639,
          -0.00933553581409191,
          -0.0036314157019751046,
          -0.005243372322991682,
          0.019645752246834618,
          0.00223874007715379,
          -0.0313001090193988,
          -0.01174381635983453,
          -0.004258013592445413,
          0.00009377784036520886,
          -0.019362926529369544,
          -0.01682413324211756,
          0.014670661732994241,
          0.001292639318231518,
          -0.01679008902721978,
          -0.006688008526492396,
          0.011347984921957528,
          -0.018820979384962844,
          0.047322729658447624,
          0.0008468596130676309,
          -0.010780246243791654,
          -0.00004753868461360412,
          -0.01847239763544243,
          -0.02332067277439808,
          0.004993953368832843,
          0.030217007996484427,
          -0.041476209844248574,
          0.0025406644299024407,
          0.012066809786200049,
          -0.021816155813045857,
          -0.010302080812826027,
          -0.018753431701529107,
          0.05376773121791349,
          0.021385225199206447,
          0.021876688052097297,
          -0.020198875525524344,
          0.0043014930349986194,
          -0.009295261215485549,
          -0.0034718908440611765,
          0.007938649789689077,
          0.0008143517970583424,
          -0.007787377718745917,
          -0.022596798568745385,
          0.015040087546184345,
          -0.011295687447811011,
          0.005639343129622921,
          0.003465869569816552,
          -0.009351124418372018,
          -0.007653413484242851,
          0.007309035452157482,
          -0.009840116979097806,
          -0.0060808640747478035,
          0.020829448180696482,
          0.0008809710828194074,
          -0.008252736331783412,
          -0.005837554916927548,
          -0.01817458091899715,
          0.009153612170811006,
          0.0003003453994645636,
          -0.02139849460989561,
          0.015273670000890511,
          0.0010066439344114198,
          0.0034150294338623796,
          -0.00800346556937322,
          0.002926929824725699,
          -0.023246191286160612,
          -0.005948857519772285,
          0.007288925754535026,
          0.00020600504785218024,
          0.0031876633675842598,
          -0.011513072780974722,
          -0.012698417437869257,
          -0.026268926632145827,
          -0.014574980653391708,
          -0.01601447886919396,
          -0.03593065149797678,
          0.010161697223280383,
          0.01828163092425387,
          -0.0051732009207884795,
          0.004780527087453348,
          0.004143342993557301,
          0.0038479817717436385,
          0.017217068042995096,
          0.020684044569187723,
          -0.01898945318873013,
          0.03176917983512913,
          0.005698021114637796,
          0.004409455963415607,
          -0.011908038915988675,
          -0.01570629006998622,
          0.05987685399517427,
          0.01779388491127154,
          0.010802344773602148,
          -0.0001971608839194187,
          0.027327027428685226,
          0.015563220155628762,
          -0.012354635643956337,
          0.0065289625973708265,
          -0.047918892687151916,
          0.01944396038004164,
          -0.0015162263548915186,
          0.004785399043749902,
          0.009116540688364415,
          0.0015435079275087401,
          -0.014320285493124427,
          -0.0032811802498081766,
          -0.003587315574603107,
          -0.019285850495339263,
          -0.00010038144959250225,
          -0.0018085912993220656,
          0.0004021919515276835,
          0.008359034582401618,
          -0.005598335125420975,
          0.003003005259769556,
          -0.01561351285169916,
          -0.0066719542618741655,
          -0.0017389529750347482,
          -0.006831574967942041,
          -0.014432062775234901,
          -0.006768304124268198,
          -0.006496444534214987,
          -0.001325592070883217,
          -0.008953851857324686,
          0.010385415421975247,
          0.012164767299721999,
          0.020925816656261056,
          -0.03616832583890814,
          -0.008700580653790884,
          0.007956256093933628,
          -0.010156713173957065,
          -0.012924338344804465,
          -0.011055278970677804,
          -0.004412339627795758,
          -0.011172679518496216,
          -0.03405576259797559,
          -0.0023739914452835286,
          0.011642111783994479,
          0.005770620212845506,
          0.001821390451736964,
          -0.005016828263463024,
          -0.010456259808097449,
          0.00988456987713706,
          -0.003092785970444161,
          -0.000573789320310076,
          -0.007258096378981926,
          -0.011103796903196359,
          0.00565450805631231,
          -0.006414764240771103,
          -0.0029881375683669604,
          0.002227302954659758,
          -0.003636580933058297,
          0.004163374237406186,
          -0.008580212488802504,
          0.005767435949286472,
          0.003105319618570544,
          0.019121041446778377,
          -0.00034441192005680524,
          -0.016964770122258888,
          -0.028009054815559882,
          -0.0004805382120342863,
          -0.00717540538294485,
          -0.06610101199269924,
          0.01041877068833467,
          0.009297653426894134,
          -0.03259967862973861,
          0.0079577746928096,
          -0.00403620103962781,
          0.02270186492500727,
          -0.006140482387360824,
          -0.005920223211658532,
          -0.012142612100140735,
          -0.02026003900736002,
          0.015151303767343636,
          0.009866459207944166,
          -0.003191041749180813,
          -0.01683917971506804,
          -0.01888364670315033,
          0.0022283003244291995,
          -0.04180329782029057,
          0.10492438427688837
         ],
         "xaxis": "x",
         "yaxis": "y"
        }
       ],
       "layout": {
        "barmode": "relative",
        "legend": {
         "tracegroupgap": 0
        },
        "template": {
         "data": {
          "bar": [
           {
            "error_x": {
             "color": "#2a3f5f"
            },
            "error_y": {
             "color": "#2a3f5f"
            },
            "marker": {
             "line": {
              "color": "#E5ECF6",
              "width": 0.5
             },
             "pattern": {
              "fillmode": "overlay",
              "size": 10,
              "solidity": 0.2
             }
            },
            "type": "bar"
           }
          ],
          "barpolar": [
           {
            "marker": {
             "line": {
              "color": "#E5ECF6",
              "width": 0.5
             },
             "pattern": {
              "fillmode": "overlay",
              "size": 10,
              "solidity": 0.2
             }
            },
            "type": "barpolar"
           }
          ],
          "carpet": [
           {
            "aaxis": {
             "endlinecolor": "#2a3f5f",
             "gridcolor": "white",
             "linecolor": "white",
             "minorgridcolor": "white",
             "startlinecolor": "#2a3f5f"
            },
            "baxis": {
             "endlinecolor": "#2a3f5f",
             "gridcolor": "white",
             "linecolor": "white",
             "minorgridcolor": "white",
             "startlinecolor": "#2a3f5f"
            },
            "type": "carpet"
           }
          ],
          "choropleth": [
           {
            "colorbar": {
             "outlinewidth": 0,
             "ticks": ""
            },
            "type": "choropleth"
           }
          ],
          "contour": [
           {
            "colorbar": {
             "outlinewidth": 0,
             "ticks": ""
            },
            "colorscale": [
             [
              0,
              "#0d0887"
             ],
             [
              0.1111111111111111,
              "#46039f"
             ],
             [
              0.2222222222222222,
              "#7201a8"
             ],
             [
              0.3333333333333333,
              "#9c179e"
             ],
             [
              0.4444444444444444,
              "#bd3786"
             ],
             [
              0.5555555555555556,
              "#d8576b"
             ],
             [
              0.6666666666666666,
              "#ed7953"
             ],
             [
              0.7777777777777778,
              "#fb9f3a"
             ],
             [
              0.8888888888888888,
              "#fdca26"
             ],
             [
              1,
              "#f0f921"
             ]
            ],
            "type": "contour"
           }
          ],
          "contourcarpet": [
           {
            "colorbar": {
             "outlinewidth": 0,
             "ticks": ""
            },
            "type": "contourcarpet"
           }
          ],
          "heatmap": [
           {
            "colorbar": {
             "outlinewidth": 0,
             "ticks": ""
            },
            "colorscale": [
             [
              0,
              "#0d0887"
             ],
             [
              0.1111111111111111,
              "#46039f"
             ],
             [
              0.2222222222222222,
              "#7201a8"
             ],
             [
              0.3333333333333333,
              "#9c179e"
             ],
             [
              0.4444444444444444,
              "#bd3786"
             ],
             [
              0.5555555555555556,
              "#d8576b"
             ],
             [
              0.6666666666666666,
              "#ed7953"
             ],
             [
              0.7777777777777778,
              "#fb9f3a"
             ],
             [
              0.8888888888888888,
              "#fdca26"
             ],
             [
              1,
              "#f0f921"
             ]
            ],
            "type": "heatmap"
           }
          ],
          "heatmapgl": [
           {
            "colorbar": {
             "outlinewidth": 0,
             "ticks": ""
            },
            "colorscale": [
             [
              0,
              "#0d0887"
             ],
             [
              0.1111111111111111,
              "#46039f"
             ],
             [
              0.2222222222222222,
              "#7201a8"
             ],
             [
              0.3333333333333333,
              "#9c179e"
             ],
             [
              0.4444444444444444,
              "#bd3786"
             ],
             [
              0.5555555555555556,
              "#d8576b"
             ],
             [
              0.6666666666666666,
              "#ed7953"
             ],
             [
              0.7777777777777778,
              "#fb9f3a"
             ],
             [
              0.8888888888888888,
              "#fdca26"
             ],
             [
              1,
              "#f0f921"
             ]
            ],
            "type": "heatmapgl"
           }
          ],
          "histogram": [
           {
            "marker": {
             "pattern": {
              "fillmode": "overlay",
              "size": 10,
              "solidity": 0.2
             }
            },
            "type": "histogram"
           }
          ],
          "histogram2d": [
           {
            "colorbar": {
             "outlinewidth": 0,
             "ticks": ""
            },
            "colorscale": [
             [
              0,
              "#0d0887"
             ],
             [
              0.1111111111111111,
              "#46039f"
             ],
             [
              0.2222222222222222,
              "#7201a8"
             ],
             [
              0.3333333333333333,
              "#9c179e"
             ],
             [
              0.4444444444444444,
              "#bd3786"
             ],
             [
              0.5555555555555556,
              "#d8576b"
             ],
             [
              0.6666666666666666,
              "#ed7953"
             ],
             [
              0.7777777777777778,
              "#fb9f3a"
             ],
             [
              0.8888888888888888,
              "#fdca26"
             ],
             [
              1,
              "#f0f921"
             ]
            ],
            "type": "histogram2d"
           }
          ],
          "histogram2dcontour": [
           {
            "colorbar": {
             "outlinewidth": 0,
             "ticks": ""
            },
            "colorscale": [
             [
              0,
              "#0d0887"
             ],
             [
              0.1111111111111111,
              "#46039f"
             ],
             [
              0.2222222222222222,
              "#7201a8"
             ],
             [
              0.3333333333333333,
              "#9c179e"
             ],
             [
              0.4444444444444444,
              "#bd3786"
             ],
             [
              0.5555555555555556,
              "#d8576b"
             ],
             [
              0.6666666666666666,
              "#ed7953"
             ],
             [
              0.7777777777777778,
              "#fb9f3a"
             ],
             [
              0.8888888888888888,
              "#fdca26"
             ],
             [
              1,
              "#f0f921"
             ]
            ],
            "type": "histogram2dcontour"
           }
          ],
          "mesh3d": [
           {
            "colorbar": {
             "outlinewidth": 0,
             "ticks": ""
            },
            "type": "mesh3d"
           }
          ],
          "parcoords": [
           {
            "line": {
             "colorbar": {
              "outlinewidth": 0,
              "ticks": ""
             }
            },
            "type": "parcoords"
           }
          ],
          "pie": [
           {
            "automargin": true,
            "type": "pie"
           }
          ],
          "scatter": [
           {
            "marker": {
             "colorbar": {
              "outlinewidth": 0,
              "ticks": ""
             }
            },
            "type": "scatter"
           }
          ],
          "scatter3d": [
           {
            "line": {
             "colorbar": {
              "outlinewidth": 0,
              "ticks": ""
             }
            },
            "marker": {
             "colorbar": {
              "outlinewidth": 0,
              "ticks": ""
             }
            },
            "type": "scatter3d"
           }
          ],
          "scattercarpet": [
           {
            "marker": {
             "colorbar": {
              "outlinewidth": 0,
              "ticks": ""
             }
            },
            "type": "scattercarpet"
           }
          ],
          "scattergeo": [
           {
            "marker": {
             "colorbar": {
              "outlinewidth": 0,
              "ticks": ""
             }
            },
            "type": "scattergeo"
           }
          ],
          "scattergl": [
           {
            "marker": {
             "colorbar": {
              "outlinewidth": 0,
              "ticks": ""
             }
            },
            "type": "scattergl"
           }
          ],
          "scattermapbox": [
           {
            "marker": {
             "colorbar": {
              "outlinewidth": 0,
              "ticks": ""
             }
            },
            "type": "scattermapbox"
           }
          ],
          "scatterpolar": [
           {
            "marker": {
             "colorbar": {
              "outlinewidth": 0,
              "ticks": ""
             }
            },
            "type": "scatterpolar"
           }
          ],
          "scatterpolargl": [
           {
            "marker": {
             "colorbar": {
              "outlinewidth": 0,
              "ticks": ""
             }
            },
            "type": "scatterpolargl"
           }
          ],
          "scatterternary": [
           {
            "marker": {
             "colorbar": {
              "outlinewidth": 0,
              "ticks": ""
             }
            },
            "type": "scatterternary"
           }
          ],
          "surface": [
           {
            "colorbar": {
             "outlinewidth": 0,
             "ticks": ""
            },
            "colorscale": [
             [
              0,
              "#0d0887"
             ],
             [
              0.1111111111111111,
              "#46039f"
             ],
             [
              0.2222222222222222,
              "#7201a8"
             ],
             [
              0.3333333333333333,
              "#9c179e"
             ],
             [
              0.4444444444444444,
              "#bd3786"
             ],
             [
              0.5555555555555556,
              "#d8576b"
             ],
             [
              0.6666666666666666,
              "#ed7953"
             ],
             [
              0.7777777777777778,
              "#fb9f3a"
             ],
             [
              0.8888888888888888,
              "#fdca26"
             ],
             [
              1,
              "#f0f921"
             ]
            ],
            "type": "surface"
           }
          ],
          "table": [
           {
            "cells": {
             "fill": {
              "color": "#EBF0F8"
             },
             "line": {
              "color": "white"
             }
            },
            "header": {
             "fill": {
              "color": "#C8D4E3"
             },
             "line": {
              "color": "white"
             }
            },
            "type": "table"
           }
          ]
         },
         "layout": {
          "annotationdefaults": {
           "arrowcolor": "#2a3f5f",
           "arrowhead": 0,
           "arrowwidth": 1
          },
          "autotypenumbers": "strict",
          "coloraxis": {
           "colorbar": {
            "outlinewidth": 0,
            "ticks": ""
           }
          },
          "colorscale": {
           "diverging": [
            [
             0,
             "#8e0152"
            ],
            [
             0.1,
             "#c51b7d"
            ],
            [
             0.2,
             "#de77ae"
            ],
            [
             0.3,
             "#f1b6da"
            ],
            [
             0.4,
             "#fde0ef"
            ],
            [
             0.5,
             "#f7f7f7"
            ],
            [
             0.6,
             "#e6f5d0"
            ],
            [
             0.7,
             "#b8e186"
            ],
            [
             0.8,
             "#7fbc41"
            ],
            [
             0.9,
             "#4d9221"
            ],
            [
             1,
             "#276419"
            ]
           ],
           "sequential": [
            [
             0,
             "#0d0887"
            ],
            [
             0.1111111111111111,
             "#46039f"
            ],
            [
             0.2222222222222222,
             "#7201a8"
            ],
            [
             0.3333333333333333,
             "#9c179e"
            ],
            [
             0.4444444444444444,
             "#bd3786"
            ],
            [
             0.5555555555555556,
             "#d8576b"
            ],
            [
             0.6666666666666666,
             "#ed7953"
            ],
            [
             0.7777777777777778,
             "#fb9f3a"
            ],
            [
             0.8888888888888888,
             "#fdca26"
            ],
            [
             1,
             "#f0f921"
            ]
           ],
           "sequentialminus": [
            [
             0,
             "#0d0887"
            ],
            [
             0.1111111111111111,
             "#46039f"
            ],
            [
             0.2222222222222222,
             "#7201a8"
            ],
            [
             0.3333333333333333,
             "#9c179e"
            ],
            [
             0.4444444444444444,
             "#bd3786"
            ],
            [
             0.5555555555555556,
             "#d8576b"
            ],
            [
             0.6666666666666666,
             "#ed7953"
            ],
            [
             0.7777777777777778,
             "#fb9f3a"
            ],
            [
             0.8888888888888888,
             "#fdca26"
            ],
            [
             1,
             "#f0f921"
            ]
           ]
          },
          "colorway": [
           "#636efa",
           "#EF553B",
           "#00cc96",
           "#ab63fa",
           "#FFA15A",
           "#19d3f3",
           "#FF6692",
           "#B6E880",
           "#FF97FF",
           "#FECB52"
          ],
          "font": {
           "color": "#2a3f5f"
          },
          "geo": {
           "bgcolor": "white",
           "lakecolor": "white",
           "landcolor": "#E5ECF6",
           "showlakes": true,
           "showland": true,
           "subunitcolor": "white"
          },
          "hoverlabel": {
           "align": "left"
          },
          "hovermode": "closest",
          "mapbox": {
           "style": "light"
          },
          "paper_bgcolor": "white",
          "plot_bgcolor": "#E5ECF6",
          "polar": {
           "angularaxis": {
            "gridcolor": "white",
            "linecolor": "white",
            "ticks": ""
           },
           "bgcolor": "#E5ECF6",
           "radialaxis": {
            "gridcolor": "white",
            "linecolor": "white",
            "ticks": ""
           }
          },
          "scene": {
           "xaxis": {
            "backgroundcolor": "#E5ECF6",
            "gridcolor": "white",
            "gridwidth": 2,
            "linecolor": "white",
            "showbackground": true,
            "ticks": "",
            "zerolinecolor": "white"
           },
           "yaxis": {
            "backgroundcolor": "#E5ECF6",
            "gridcolor": "white",
            "gridwidth": 2,
            "linecolor": "white",
            "showbackground": true,
            "ticks": "",
            "zerolinecolor": "white"
           },
           "zaxis": {
            "backgroundcolor": "#E5ECF6",
            "gridcolor": "white",
            "gridwidth": 2,
            "linecolor": "white",
            "showbackground": true,
            "ticks": "",
            "zerolinecolor": "white"
           }
          },
          "shapedefaults": {
           "line": {
            "color": "#2a3f5f"
           }
          },
          "ternary": {
           "aaxis": {
            "gridcolor": "white",
            "linecolor": "white",
            "ticks": ""
           },
           "baxis": {
            "gridcolor": "white",
            "linecolor": "white",
            "ticks": ""
           },
           "bgcolor": "#E5ECF6",
           "caxis": {
            "gridcolor": "white",
            "linecolor": "white",
            "ticks": ""
           }
          },
          "title": {
           "x": 0.05
          },
          "xaxis": {
           "automargin": true,
           "gridcolor": "white",
           "linecolor": "white",
           "ticks": "",
           "title": {
            "standoff": 15
           },
           "zerolinecolor": "white",
           "zerolinewidth": 2
          },
          "yaxis": {
           "automargin": true,
           "gridcolor": "white",
           "linecolor": "white",
           "ticks": "",
           "title": {
            "standoff": 15
           },
           "zerolinecolor": "white",
           "zerolinewidth": 2
          }
         }
        },
        "title": {
         "text": "AAPL volatility: nan%"
        },
        "xaxis": {
         "anchor": "y",
         "domain": [
          0,
          1
         ],
         "title": {
          "text": "log_returns"
         }
        },
        "yaxis": {
         "anchor": "x",
         "domain": [
          0,
          1
         ],
         "title": {
          "text": "count"
         }
        }
       }
      }
     },
     "metadata": {},
     "output_type": "display_data"
    }
   ],
   "source": [
    "volatility = calc_volatility(df_apple, '2019-01-01', '2020-12-31', 252)\n",
    "str_vol = str(round(volatility, 4)*100)\n",
    "\n",
    "fig = px.histogram(df_apple, x='log_returns', title='AAPL volatility: ' + str_vol + '%')\n",
    "\n",
    "fig.show()"
   ]
  }
 ],
 "metadata": {
  "interpreter": {
   "hash": "8b2a4ccb8e65f19440174776a42fe422935672eb46806908ee7044aabe35ab48"
  },
  "kernelspec": {
   "display_name": "Python 3.9.7 ('clustering_exercise')",
   "language": "python",
   "name": "python3"
  },
  "language_info": {
   "codemirror_mode": {
    "name": "ipython",
    "version": 3
   },
   "file_extension": ".py",
   "mimetype": "text/x-python",
   "name": "python",
   "nbconvert_exporter": "python",
   "pygments_lexer": "ipython3",
   "version": "3.9.7"
  },
  "orig_nbformat": 4
 },
 "nbformat": 4,
 "nbformat_minor": 2
}
