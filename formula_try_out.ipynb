{
 "cells": [
  {
   "cell_type": "code",
   "execution_count": 21,
   "metadata": {},
   "outputs": [],
   "source": [
    "import pandas as pd\n",
    "import pandas_datareader as pdr\n",
    "import pandas_datareader.data as web\n",
    "import numpy as np\n",
    "import matplotlib.pyplot as plt\n",
    "import plotly.express as px\n",
    "import datetime as dt\n",
    "\n",
    "import api_function\n",
    "import stock_function"
   ]
  },
  {
   "cell_type": "code",
   "execution_count": 22,
   "metadata": {},
   "outputs": [
    {
     "data": {
      "text/html": [
       "<div>\n",
       "<style scoped>\n",
       "    .dataframe tbody tr th:only-of-type {\n",
       "        vertical-align: middle;\n",
       "    }\n",
       "\n",
       "    .dataframe tbody tr th {\n",
       "        vertical-align: top;\n",
       "    }\n",
       "\n",
       "    .dataframe thead th {\n",
       "        text-align: right;\n",
       "    }\n",
       "</style>\n",
       "<table border=\"1\" class=\"dataframe\">\n",
       "  <thead>\n",
       "    <tr style=\"text-align: right;\">\n",
       "      <th></th>\n",
       "      <th>timestamp</th>\n",
       "      <th>high</th>\n",
       "      <th>low</th>\n",
       "      <th>open</th>\n",
       "      <th>close</th>\n",
       "      <th>volume</th>\n",
       "      <th>adj_close</th>\n",
       "      <th>ratio</th>\n",
       "      <th>absolute</th>\n",
       "      <th>avg_ratio</th>\n",
       "    </tr>\n",
       "  </thead>\n",
       "  <tbody>\n",
       "    <tr>\n",
       "      <th>0</th>\n",
       "      <td>2012-01-03</td>\n",
       "      <td>14.732143</td>\n",
       "      <td>14.607143</td>\n",
       "      <td>14.621429</td>\n",
       "      <td>14.686786</td>\n",
       "      <td>302220800.0</td>\n",
       "      <td>12.575917</td>\n",
       "      <td>0.446990</td>\n",
       "      <td>0.065356</td>\n",
       "      <td>0.036119</td>\n",
       "    </tr>\n",
       "    <tr>\n",
       "      <th>1</th>\n",
       "      <td>2012-01-04</td>\n",
       "      <td>14.810000</td>\n",
       "      <td>14.617143</td>\n",
       "      <td>14.642857</td>\n",
       "      <td>14.765714</td>\n",
       "      <td>260022000.0</td>\n",
       "      <td>12.643499</td>\n",
       "      <td>0.839024</td>\n",
       "      <td>0.122857</td>\n",
       "      <td>0.036119</td>\n",
       "    </tr>\n",
       "    <tr>\n",
       "      <th>2</th>\n",
       "      <td>2012-01-05</td>\n",
       "      <td>14.948214</td>\n",
       "      <td>14.738214</td>\n",
       "      <td>14.819643</td>\n",
       "      <td>14.929643</td>\n",
       "      <td>271269600.0</td>\n",
       "      <td>12.783871</td>\n",
       "      <td>0.742256</td>\n",
       "      <td>0.110000</td>\n",
       "      <td>0.036119</td>\n",
       "    </tr>\n",
       "    <tr>\n",
       "      <th>3</th>\n",
       "      <td>2012-01-06</td>\n",
       "      <td>15.098214</td>\n",
       "      <td>14.972143</td>\n",
       "      <td>14.991786</td>\n",
       "      <td>15.085714</td>\n",
       "      <td>318292800.0</td>\n",
       "      <td>12.917512</td>\n",
       "      <td>0.626532</td>\n",
       "      <td>0.093928</td>\n",
       "      <td>0.036119</td>\n",
       "    </tr>\n",
       "    <tr>\n",
       "      <th>4</th>\n",
       "      <td>2012-01-09</td>\n",
       "      <td>15.276786</td>\n",
       "      <td>15.048214</td>\n",
       "      <td>15.196429</td>\n",
       "      <td>15.061786</td>\n",
       "      <td>394024400.0</td>\n",
       "      <td>12.897021</td>\n",
       "      <td>-0.886021</td>\n",
       "      <td>-0.134644</td>\n",
       "      <td>0.036119</td>\n",
       "    </tr>\n",
       "  </tbody>\n",
       "</table>\n",
       "</div>"
      ],
      "text/plain": [
       "    timestamp       high        low       open      close       volume  \\\n",
       "0  2012-01-03  14.732143  14.607143  14.621429  14.686786  302220800.0   \n",
       "1  2012-01-04  14.810000  14.617143  14.642857  14.765714  260022000.0   \n",
       "2  2012-01-05  14.948214  14.738214  14.819643  14.929643  271269600.0   \n",
       "3  2012-01-06  15.098214  14.972143  14.991786  15.085714  318292800.0   \n",
       "4  2012-01-09  15.276786  15.048214  15.196429  15.061786  394024400.0   \n",
       "\n",
       "   adj_close     ratio  absolute  avg_ratio  \n",
       "0  12.575917  0.446990  0.065356   0.036119  \n",
       "1  12.643499  0.839024  0.122857   0.036119  \n",
       "2  12.783871  0.742256  0.110000   0.036119  \n",
       "3  12.917512  0.626532  0.093928   0.036119  \n",
       "4  12.897021 -0.886021 -0.134644   0.036119  "
      ]
     },
     "execution_count": 22,
     "metadata": {},
     "output_type": "execute_result"
    }
   ],
   "source": [
    "df_apple = pd.read_csv('data/AAPL-Daily.csv')\n",
    "df_apple.head()"
   ]
  },
  {
   "cell_type": "code",
   "execution_count": 23,
   "metadata": {},
   "outputs": [],
   "source": [
    "def add_log_returns_column(df, start_date, end_date):\n",
    "    df.columns = [col.replace(\" \", \"_\").lower() for col in df.columns]\n",
    "\n",
    "    df.index = pd.to_datetime(df.index)\n",
    "    mask = (df.index >= start_date) & (df.index <= end_date)\n",
    "    df = df.loc[mask].reset_index()\n",
    "    df[\"log_returns\"] = np.log(df.close / df.close.shift())\n",
    "    return df"
   ]
  },
  {
   "cell_type": "code",
   "execution_count": 24,
   "metadata": {},
   "outputs": [
    {
     "data": {
      "text/html": [
       "<div>\n",
       "<style scoped>\n",
       "    .dataframe tbody tr th:only-of-type {\n",
       "        vertical-align: middle;\n",
       "    }\n",
       "\n",
       "    .dataframe tbody tr th {\n",
       "        vertical-align: top;\n",
       "    }\n",
       "\n",
       "    .dataframe thead th {\n",
       "        text-align: right;\n",
       "    }\n",
       "</style>\n",
       "<table border=\"1\" class=\"dataframe\">\n",
       "  <thead>\n",
       "    <tr style=\"text-align: right;\">\n",
       "      <th></th>\n",
       "      <th>index</th>\n",
       "      <th>timestamp</th>\n",
       "      <th>high</th>\n",
       "      <th>low</th>\n",
       "      <th>open</th>\n",
       "      <th>close</th>\n",
       "      <th>volume</th>\n",
       "      <th>adj_close</th>\n",
       "      <th>ratio</th>\n",
       "      <th>absolute</th>\n",
       "      <th>avg_ratio</th>\n",
       "      <th>log_returns</th>\n",
       "    </tr>\n",
       "  </thead>\n",
       "  <tbody>\n",
       "  </tbody>\n",
       "</table>\n",
       "</div>"
      ],
      "text/plain": [
       "Empty DataFrame\n",
       "Columns: [index, timestamp, high, low, open, close, volume, adj_close, ratio, absolute, avg_ratio, log_returns]\n",
       "Index: []"
      ]
     },
     "execution_count": 24,
     "metadata": {},
     "output_type": "execute_result"
    }
   ],
   "source": [
    "df_apple = add_log_returns_column(df_apple, '2021-01-01', '2021-12-31')\n",
    "df_apple"
   ]
  },
  {
   "cell_type": "code",
   "execution_count": 25,
   "metadata": {},
   "outputs": [
    {
     "name": "stdout",
     "output_type": "stream",
     "text": [
      "yes\n"
     ]
    }
   ],
   "source": [
    "if 'log_returns' in df_apple.columns:\n",
    "    print('yes')\n",
    "else:\n",
    "    print('no')"
   ]
  },
  {
   "cell_type": "code",
   "execution_count": 26,
   "metadata": {},
   "outputs": [],
   "source": [
    "def calc_volatility(df, start_date, end_date, trading_day): \n",
    "    if 'log_returns' in df.columns:\n",
    "        return df['log_returns'].std()*trading_day**0.5\n",
    "    else: \n",
    "        df = add_log_returns_column(df, start_date, end_date)\n",
    "        return df['log_returns'].std()*trading_day**0.5"
   ]
  },
  {
   "cell_type": "code",
   "execution_count": 27,
   "metadata": {},
   "outputs": [
    {
     "data": {
      "text/plain": [
       "nan"
      ]
     },
     "execution_count": 27,
     "metadata": {},
     "output_type": "execute_result"
    }
   ],
   "source": [
    "calc_volatility(df_apple, '2021-01-01', '2021-12-31', 252)"
   ]
  },
  {
   "cell_type": "code",
   "execution_count": 28,
   "metadata": {},
   "outputs": [
    {
     "data": {
      "text/plain": [
       "Text(0.5, 1.0, 'AAPL volatility: nan%')"
      ]
     },
     "execution_count": 28,
     "metadata": {},
     "output_type": "execute_result"
    },
    {
     "data": {
      "image/png": "[encoded data removed]",
      "text/plain": [
       "<Figure size 432x288 with 1 Axes>"
      ]
     },
     "metadata": {
      "needs_background": "light"
     },
     "output_type": "display_data"
    }
   ],
   "source": [
    "volatility = calc_volatility(df_apple, '2021-01-01', '2021-12-31', 252)\n",
    "str_vol = str(round(volatility, 4)*100)\n",
    "\n",
    "fig, ax = plt.subplots()\n",
    "df_apple['log_returns'].hist(ax=ax, bins=50, alpha=0.6, color='b')\n",
    "ax.set_xlabel('Log return')\n",
    "ax.set_ylabel('Freq of log return')\n",
    "ax.set_title('AAPL volatility: ' + str_vol + '%')"
   ]
  },
  {
   "cell_type": "code",
   "execution_count": 29,
   "metadata": {},
   "outputs": [
    {
     "ename": "ValueError",
     "evalue": "Mime type rendering requires nbformat>=4.2.0 but it is not installed",
     "output_type": "error",
     "traceback": [
      "\u001b[0;31m---------------------------------------------------------------------------\u001b[0m",
      "\u001b[0;31mValueError\u001b[0m                                Traceback (most recent call last)",
      "\u001b[1;32m/Users/duchiephoang/neuefische/Capstone/formula_try_out.ipynb Cell 9'\u001b[0m in \u001b[0;36m<module>\u001b[0;34m\u001b[0m\n\u001b[1;32m      <a href='vscode-notebook-cell:/Users/duchiephoang/neuefische/Capstone/formula_try_out.ipynb#ch0000008?line=1'>2</a>\u001b[0m str_vol \u001b[39m=\u001b[39m \u001b[39mstr\u001b[39m(\u001b[39mround\u001b[39m(volatility, \u001b[39m4\u001b[39m) \u001b[39m*\u001b[39m \u001b[39m100\u001b[39m)\n\u001b[1;32m      <a href='vscode-notebook-cell:/Users/duchiephoang/neuefische/Capstone/formula_try_out.ipynb#ch0000008?line=3'>4</a>\u001b[0m fig \u001b[39m=\u001b[39m px\u001b[39m.\u001b[39mhistogram(df_apple, x\u001b[39m=\u001b[39m\u001b[39m\"\u001b[39m\u001b[39mlog_returns\u001b[39m\u001b[39m\"\u001b[39m, title\u001b[39m=\u001b[39m\u001b[39m\"\u001b[39m\u001b[39mAAPL volatility: \u001b[39m\u001b[39m\"\u001b[39m \u001b[39m+\u001b[39m str_vol \u001b[39m+\u001b[39m \u001b[39m\"\u001b[39m\u001b[39m%\u001b[39m\u001b[39m\"\u001b[39m)\n\u001b[0;32m----> <a href='vscode-notebook-cell:/Users/duchiephoang/neuefische/Capstone/formula_try_out.ipynb#ch0000008?line=5'>6</a>\u001b[0m fig\u001b[39m.\u001b[39;49mshow()\n",
      "File \u001b[0;32m/opt/homebrew/Caskroom/miniconda/base/envs/trading_env/lib/python3.8/site-packages/plotly/basedatatypes.py:3398\u001b[0m, in \u001b[0;36mBaseFigure.show\u001b[0;34m(self, *args, **kwargs)\u001b[0m\n\u001b[1;32m   <a href='file:///opt/homebrew/Caskroom/miniconda/base/envs/trading_env/lib/python3.8/site-packages/plotly/basedatatypes.py?line=3364'>3365</a>\u001b[0m \u001b[39m\"\"\"\u001b[39;00m\n\u001b[1;32m   <a href='file:///opt/homebrew/Caskroom/miniconda/base/envs/trading_env/lib/python3.8/site-packages/plotly/basedatatypes.py?line=3365'>3366</a>\u001b[0m \u001b[39mShow a figure using either the default renderer(s) or the renderer(s)\u001b[39;00m\n\u001b[1;32m   <a href='file:///opt/homebrew/Caskroom/miniconda/base/envs/trading_env/lib/python3.8/site-packages/plotly/basedatatypes.py?line=3366'>3367</a>\u001b[0m \u001b[39mspecified by the renderer argument\u001b[39;00m\n\u001b[0;32m   (...)\u001b[0m\n\u001b[1;32m   <a href='file:///opt/homebrew/Caskroom/miniconda/base/envs/trading_env/lib/python3.8/site-packages/plotly/basedatatypes.py?line=3393'>3394</a>\u001b[0m \u001b[39mNone\u001b[39;00m\n\u001b[1;32m   <a href='file:///opt/homebrew/Caskroom/miniconda/base/envs/trading_env/lib/python3.8/site-packages/plotly/basedatatypes.py?line=3394'>3395</a>\u001b[0m \u001b[39m\"\"\"\u001b[39;00m\n\u001b[1;32m   <a href='file:///opt/homebrew/Caskroom/miniconda/base/envs/trading_env/lib/python3.8/site-packages/plotly/basedatatypes.py?line=3395'>3396</a>\u001b[0m \u001b[39mimport\u001b[39;00m \u001b[39mplotly\u001b[39;00m\u001b[39m.\u001b[39;00m\u001b[39mio\u001b[39;00m \u001b[39mas\u001b[39;00m \u001b[39mpio\u001b[39;00m\n\u001b[0;32m-> <a href='file:///opt/homebrew/Caskroom/miniconda/base/envs/trading_env/lib/python3.8/site-packages/plotly/basedatatypes.py?line=3397'>3398</a>\u001b[0m \u001b[39mreturn\u001b[39;00m pio\u001b[39m.\u001b[39;49mshow(\u001b[39mself\u001b[39;49m, \u001b[39m*\u001b[39;49margs, \u001b[39m*\u001b[39;49m\u001b[39m*\u001b[39;49mkwargs)\n",
      "File \u001b[0;32m/opt/homebrew/Caskroom/miniconda/base/envs/trading_env/lib/python3.8/site-packages/plotly/io/_renderers.py:397\u001b[0m, in \u001b[0;36mshow\u001b[0;34m(fig, renderer, validate, **kwargs)\u001b[0m\n\u001b[1;32m    <a href='file:///opt/homebrew/Caskroom/miniconda/base/envs/trading_env/lib/python3.8/site-packages/plotly/io/_renderers.py?line=391'>392</a>\u001b[0m         \u001b[39mraise\u001b[39;00m \u001b[39mValueError\u001b[39;00m(\n\u001b[1;32m    <a href='file:///opt/homebrew/Caskroom/miniconda/base/envs/trading_env/lib/python3.8/site-packages/plotly/io/_renderers.py?line=392'>393</a>\u001b[0m             \u001b[39m\"\u001b[39m\u001b[39mMime type rendering requires ipython but it is not installed\u001b[39m\u001b[39m\"\u001b[39m\n\u001b[1;32m    <a href='file:///opt/homebrew/Caskroom/miniconda/base/envs/trading_env/lib/python3.8/site-packages/plotly/io/_renderers.py?line=393'>394</a>\u001b[0m         )\n\u001b[1;32m    <a href='file:///opt/homebrew/Caskroom/miniconda/base/envs/trading_env/lib/python3.8/site-packages/plotly/io/_renderers.py?line=395'>396</a>\u001b[0m     \u001b[39mif\u001b[39;00m \u001b[39mnot\u001b[39;00m nbformat \u001b[39mor\u001b[39;00m LooseVersion(nbformat\u001b[39m.\u001b[39m__version__) \u001b[39m<\u001b[39m LooseVersion(\u001b[39m\"\u001b[39m\u001b[39m4.2.0\u001b[39m\u001b[39m\"\u001b[39m):\n\u001b[0;32m--> <a href='file:///opt/homebrew/Caskroom/miniconda/base/envs/trading_env/lib/python3.8/site-packages/plotly/io/_renderers.py?line=396'>397</a>\u001b[0m         \u001b[39mraise\u001b[39;00m \u001b[39mValueError\u001b[39;00m(\n\u001b[1;32m    <a href='file:///opt/homebrew/Caskroom/miniconda/base/envs/trading_env/lib/python3.8/site-packages/plotly/io/_renderers.py?line=397'>398</a>\u001b[0m             \u001b[39m\"\u001b[39m\u001b[39mMime type rendering requires nbformat>=4.2.0 but it is not installed\u001b[39m\u001b[39m\"\u001b[39m\n\u001b[1;32m    <a href='file:///opt/homebrew/Caskroom/miniconda/base/envs/trading_env/lib/python3.8/site-packages/plotly/io/_renderers.py?line=398'>399</a>\u001b[0m         )\n\u001b[1;32m    <a href='file:///opt/homebrew/Caskroom/miniconda/base/envs/trading_env/lib/python3.8/site-packages/plotly/io/_renderers.py?line=400'>401</a>\u001b[0m     ipython_display\u001b[39m.\u001b[39mdisplay(bundle, raw\u001b[39m=\u001b[39m\u001b[39mTrue\u001b[39;00m)\n\u001b[1;32m    <a href='file:///opt/homebrew/Caskroom/miniconda/base/envs/trading_env/lib/python3.8/site-packages/plotly/io/_renderers.py?line=402'>403</a>\u001b[0m \u001b[39m# external renderers\u001b[39;00m\n",
      "\u001b[0;31mValueError\u001b[0m: Mime type rendering requires nbformat>=4.2.0 but it is not installed"
     ]
    }
   ],
   "source": [
    "volatility = calc_volatility(df_apple, \"2021-01-01\", \"2021-12-31\", 252)\n",
    "str_vol = str(round(volatility, 4) * 100)\n",
    "\n",
    "fig = px.histogram(df_apple, x=\"log_returns\", title=\"AAPL volatility: \" + str_vol + \"%\")\n",
    "\n",
    "fig.show()\n"
   ]
  },
  {
   "cell_type": "code",
   "execution_count": null,
   "metadata": {},
   "outputs": [],
   "source": [
    "df_microsoft = pd.read_csv('data/MSFT-Daily.csv')\n",
    "df_microsoft.head()"
   ]
  },
  {
   "cell_type": "code",
   "execution_count": null,
   "metadata": {},
   "outputs": [],
   "source": [
    "df_microsoft = add_log_returns_column(df_microsoft, \"2021-01-01\", \"2021-12-31\")\n",
    "df_microsoft\n"
   ]
  },
  {
   "cell_type": "code",
   "execution_count": null,
   "metadata": {},
   "outputs": [],
   "source": [
    "volatility = calc_volatility(df_microsoft, \"2021-01-01\", \"2021-12-31\", 252)\n",
    "str_vol = str(round(volatility, 4) * 100)\n",
    "\n",
    "fig = px.histogram(\n",
    "    df_microsoft, x=\"log_returns\", title=\"Volatility: \" + str_vol + \"%\"\n",
    ")\n",
    "\n",
    "fig.show()\n"
   ]
  },
  {
   "cell_type": "code",
   "execution_count": null,
   "metadata": {},
   "outputs": [],
   "source": [
    "apple_yahoo = pdr.get_data_yahoo('AAPL', dt.date(2012, 1, 1), dt.date(2021, 12, 31))"
   ]
  },
  {
   "cell_type": "code",
   "execution_count": null,
   "metadata": {},
   "outputs": [],
   "source": [
    "apple_yahoo.head()"
   ]
  },
  {
   "cell_type": "code",
   "execution_count": null,
   "metadata": {},
   "outputs": [],
   "source": [
    "aapl_yahoo_web = web.DataReader('AAPL', 'yahoo', start='2012-01-01', end='2021-12-31')\n",
    "aapl_yahoo_web.head()"
   ]
  },
  {
   "cell_type": "code",
   "execution_count": null,
   "metadata": {},
   "outputs": [],
   "source": [
    "apple_yahoo_vo = stock_function.calc_volatility(apple_yahoo, \"2021-01-01\", \"2021-12-31\", 252)\n",
    "apple_yahoo_vo"
   ]
  },
  {
   "cell_type": "code",
   "execution_count": null,
   "metadata": {},
   "outputs": [],
   "source": [
    "bitcoin_yahoo = pdr.get_data_yahoo('BTC-USD', dt.date(2012, 1, 1), dt.date(2021, 12, 31))\n",
    "print(bitcoin_yahoo.head())"
   ]
  },
  {
   "cell_type": "code",
   "execution_count": null,
   "metadata": {},
   "outputs": [],
   "source": [
    "bitcoin_yahoo_vo = stock_function.calc_volatility(bitcoin_yahoo, \"2021-01-01\", \"2021-12-31\", 252)\n",
    "bitcoin_yahoo_vo"
   ]
  },
  {
   "cell_type": "code",
   "execution_count": null,
   "metadata": {},
   "outputs": [],
   "source": [
    "df_bitcoin = pd.read_csv('data/BTC-Daily.csv')\n",
    "df_bitcoin.head()"
   ]
  },
  {
   "cell_type": "code",
   "execution_count": null,
   "metadata": {},
   "outputs": [],
   "source": [
    "df_bitcoin_v = calc_volatility(df_bitcoin, \"2021-01-01\", \"2021-12-31\", 252)\n",
    "df_bitcoin_v"
   ]
  },
  {
   "cell_type": "code",
   "execution_count": null,
   "metadata": {},
   "outputs": [],
   "source": [
    "start_date=\"2012-01-01\"\n",
    "end_date=\"2021-12-31\"\n",
    "df_aapl = api_function.get_df_stock_daily(\"AAPL\", start_date, end_date)"
   ]
  },
  {
   "cell_type": "code",
   "execution_count": null,
   "metadata": {},
   "outputs": [
    {
     "data": {
      "text/html": [
       "<div>\n",
       "<style scoped>\n",
       "    .dataframe tbody tr th:only-of-type {\n",
       "        vertical-align: middle;\n",
       "    }\n",
       "\n",
       "    .dataframe tbody tr th {\n",
       "        vertical-align: top;\n",
       "    }\n",
       "\n",
       "    .dataframe thead th {\n",
       "        text-align: right;\n",
       "    }\n",
       "</style>\n",
       "<table border=\"1\" class=\"dataframe\">\n",
       "  <thead>\n",
       "    <tr style=\"text-align: right;\">\n",
       "      <th></th>\n",
       "      <th>High</th>\n",
       "      <th>Low</th>\n",
       "      <th>Open</th>\n",
       "      <th>Close</th>\n",
       "      <th>Volume</th>\n",
       "      <th>Adj Close</th>\n",
       "    </tr>\n",
       "    <tr>\n",
       "      <th>Date</th>\n",
       "      <th></th>\n",
       "      <th></th>\n",
       "      <th></th>\n",
       "      <th></th>\n",
       "      <th></th>\n",
       "      <th></th>\n",
       "    </tr>\n",
       "  </thead>\n",
       "  <tbody>\n",
       "    <tr>\n",
       "      <th>2012-01-03</th>\n",
       "      <td>14.732143</td>\n",
       "      <td>14.607143</td>\n",
       "      <td>14.621429</td>\n",
       "      <td>14.686786</td>\n",
       "      <td>302220800.0</td>\n",
       "      <td>12.575917</td>\n",
       "    </tr>\n",
       "    <tr>\n",
       "      <th>2012-01-04</th>\n",
       "      <td>14.810000</td>\n",
       "      <td>14.617143</td>\n",
       "      <td>14.642857</td>\n",
       "      <td>14.765714</td>\n",
       "      <td>260022000.0</td>\n",
       "      <td>12.643501</td>\n",
       "    </tr>\n",
       "    <tr>\n",
       "      <th>2012-01-05</th>\n",
       "      <td>14.948214</td>\n",
       "      <td>14.738214</td>\n",
       "      <td>14.819643</td>\n",
       "      <td>14.929643</td>\n",
       "      <td>271269600.0</td>\n",
       "      <td>12.783873</td>\n",
       "    </tr>\n",
       "    <tr>\n",
       "      <th>2012-01-06</th>\n",
       "      <td>15.098214</td>\n",
       "      <td>14.972143</td>\n",
       "      <td>14.991786</td>\n",
       "      <td>15.085714</td>\n",
       "      <td>318292800.0</td>\n",
       "      <td>12.917513</td>\n",
       "    </tr>\n",
       "    <tr>\n",
       "      <th>2012-01-09</th>\n",
       "      <td>15.276786</td>\n",
       "      <td>15.048214</td>\n",
       "      <td>15.196429</td>\n",
       "      <td>15.061786</td>\n",
       "      <td>394024400.0</td>\n",
       "      <td>12.897021</td>\n",
       "    </tr>\n",
       "    <tr>\n",
       "      <th>...</th>\n",
       "      <td>...</td>\n",
       "      <td>...</td>\n",
       "      <td>...</td>\n",
       "      <td>...</td>\n",
       "      <td>...</td>\n",
       "      <td>...</td>\n",
       "    </tr>\n",
       "    <tr>\n",
       "      <th>2021-12-27</th>\n",
       "      <td>180.419998</td>\n",
       "      <td>177.070007</td>\n",
       "      <td>177.089996</td>\n",
       "      <td>180.330002</td>\n",
       "      <td>74919600.0</td>\n",
       "      <td>180.100540</td>\n",
       "    </tr>\n",
       "    <tr>\n",
       "      <th>2021-12-28</th>\n",
       "      <td>181.330002</td>\n",
       "      <td>178.529999</td>\n",
       "      <td>180.160004</td>\n",
       "      <td>179.289993</td>\n",
       "      <td>79144300.0</td>\n",
       "      <td>179.061859</td>\n",
       "    </tr>\n",
       "    <tr>\n",
       "      <th>2021-12-29</th>\n",
       "      <td>180.630005</td>\n",
       "      <td>178.139999</td>\n",
       "      <td>179.330002</td>\n",
       "      <td>179.380005</td>\n",
       "      <td>62348900.0</td>\n",
       "      <td>179.151749</td>\n",
       "    </tr>\n",
       "    <tr>\n",
       "      <th>2021-12-30</th>\n",
       "      <td>180.570007</td>\n",
       "      <td>178.089996</td>\n",
       "      <td>179.470001</td>\n",
       "      <td>178.199997</td>\n",
       "      <td>59773000.0</td>\n",
       "      <td>177.973251</td>\n",
       "    </tr>\n",
       "    <tr>\n",
       "      <th>2021-12-31</th>\n",
       "      <td>179.229996</td>\n",
       "      <td>177.259995</td>\n",
       "      <td>178.089996</td>\n",
       "      <td>177.570007</td>\n",
       "      <td>64062300.0</td>\n",
       "      <td>177.344055</td>\n",
       "    </tr>\n",
       "  </tbody>\n",
       "</table>\n",
       "<p>2517 rows × 6 columns</p>\n",
       "</div>"
      ],
      "text/plain": [
       "                  High         Low        Open       Close       Volume  \\\n",
       "Date                                                                      \n",
       "2012-01-03   14.732143   14.607143   14.621429   14.686786  302220800.0   \n",
       "2012-01-04   14.810000   14.617143   14.642857   14.765714  260022000.0   \n",
       "2012-01-05   14.948214   14.738214   14.819643   14.929643  271269600.0   \n",
       "2012-01-06   15.098214   14.972143   14.991786   15.085714  318292800.0   \n",
       "2012-01-09   15.276786   15.048214   15.196429   15.061786  394024400.0   \n",
       "...                ...         ...         ...         ...          ...   \n",
       "2021-12-27  180.419998  177.070007  177.089996  180.330002   74919600.0   \n",
       "2021-12-28  181.330002  178.529999  180.160004  179.289993   79144300.0   \n",
       "2021-12-29  180.630005  178.139999  179.330002  179.380005   62348900.0   \n",
       "2021-12-30  180.570007  178.089996  179.470001  178.199997   59773000.0   \n",
       "2021-12-31  179.229996  177.259995  178.089996  177.570007   64062300.0   \n",
       "\n",
       "             Adj Close  \n",
       "Date                    \n",
       "2012-01-03   12.575917  \n",
       "2012-01-04   12.643501  \n",
       "2012-01-05   12.783873  \n",
       "2012-01-06   12.917513  \n",
       "2012-01-09   12.897021  \n",
       "...                ...  \n",
       "2021-12-27  180.100540  \n",
       "2021-12-28  179.061859  \n",
       "2021-12-29  179.151749  \n",
       "2021-12-30  177.973251  \n",
       "2021-12-31  177.344055  \n",
       "\n",
       "[2517 rows x 6 columns]"
      ]
     },
     "execution_count": 3,
     "metadata": {},
     "output_type": "execute_result"
    }
   ],
   "source": [
    "df_aapl"
   ]
  },
  {
   "cell_type": "code",
   "execution_count": null,
   "metadata": {},
   "outputs": [],
   "source": [
    "(\n",
    "    df_aapl,\n",
    "    df_btc,\n",
    "    df_fb,\n",
    "    df_goog,\n",
    "    df_msft,\n",
    "    df_tsla,\n",
    ") = api_function.get_all_focused_stocks(start_date=\"2012-01-01\", end_date=\"2021-12-31\")\n"
   ]
  },
  {
   "cell_type": "code",
   "execution_count": null,
   "metadata": {},
   "outputs": [],
   "source": [
    "df_btc.head()"
   ]
  },
  {
   "cell_type": "code",
   "execution_count": null,
   "metadata": {},
   "outputs": [],
   "source": [
    "print(f'Dataframe contains stock prices between {df_btc.index.min()} {df_btc.index.max()}') \n",
    "print(f'Total days = {(df_btc.index.max() - df_btc.index.min()).days} days')"
   ]
  },
  {
   "cell_type": "code",
   "execution_count": null,
   "metadata": {},
   "outputs": [],
   "source": [
    "df_btc.pct_change(1)"
   ]
  },
  {
   "cell_type": "code",
   "execution_count": null,
   "metadata": {},
   "outputs": [],
   "source": [
    "mean_daily_ret = df_btc.pct_change(1).mean()\n",
    "mean_daily_ret"
   ]
  },
  {
   "cell_type": "code",
   "execution_count": null,
   "metadata": {},
   "outputs": [
    {
     "data": {
      "text/html": [
       "<div>\n",
       "<style scoped>\n",
       "    .dataframe tbody tr th:only-of-type {\n",
       "        vertical-align: middle;\n",
       "    }\n",
       "\n",
       "    .dataframe tbody tr th {\n",
       "        vertical-align: top;\n",
       "    }\n",
       "\n",
       "    .dataframe thead th {\n",
       "        text-align: right;\n",
       "    }\n",
       "</style>\n",
       "<table border=\"1\" class=\"dataframe\">\n",
       "  <thead>\n",
       "    <tr style=\"text-align: right;\">\n",
       "      <th></th>\n",
       "      <th>high</th>\n",
       "      <th>low</th>\n",
       "      <th>open</th>\n",
       "      <th>close</th>\n",
       "      <th>volume</th>\n",
       "      <th>adj_close</th>\n",
       "    </tr>\n",
       "    <tr>\n",
       "      <th>Date</th>\n",
       "      <th></th>\n",
       "      <th></th>\n",
       "      <th></th>\n",
       "      <th></th>\n",
       "      <th></th>\n",
       "      <th></th>\n",
       "    </tr>\n",
       "  </thead>\n",
       "  <tbody>\n",
       "    <tr>\n",
       "      <th>2012-01-03</th>\n",
       "      <td>14.732143</td>\n",
       "      <td>14.607143</td>\n",
       "      <td>14.621429</td>\n",
       "      <td>14.686786</td>\n",
       "      <td>302220800.0</td>\n",
       "      <td>12.575918</td>\n",
       "    </tr>\n",
       "    <tr>\n",
       "      <th>2012-01-04</th>\n",
       "      <td>14.810000</td>\n",
       "      <td>14.617143</td>\n",
       "      <td>14.642857</td>\n",
       "      <td>14.765714</td>\n",
       "      <td>260022000.0</td>\n",
       "      <td>12.643502</td>\n",
       "    </tr>\n",
       "    <tr>\n",
       "      <th>2012-01-05</th>\n",
       "      <td>14.948214</td>\n",
       "      <td>14.738214</td>\n",
       "      <td>14.819643</td>\n",
       "      <td>14.929643</td>\n",
       "      <td>271269600.0</td>\n",
       "      <td>12.783867</td>\n",
       "    </tr>\n",
       "    <tr>\n",
       "      <th>2012-01-06</th>\n",
       "      <td>15.098214</td>\n",
       "      <td>14.972143</td>\n",
       "      <td>14.991786</td>\n",
       "      <td>15.085714</td>\n",
       "      <td>318292800.0</td>\n",
       "      <td>12.917510</td>\n",
       "    </tr>\n",
       "    <tr>\n",
       "      <th>2012-01-09</th>\n",
       "      <td>15.276786</td>\n",
       "      <td>15.048214</td>\n",
       "      <td>15.196429</td>\n",
       "      <td>15.061786</td>\n",
       "      <td>394024400.0</td>\n",
       "      <td>12.897018</td>\n",
       "    </tr>\n",
       "    <tr>\n",
       "      <th>...</th>\n",
       "      <td>...</td>\n",
       "      <td>...</td>\n",
       "      <td>...</td>\n",
       "      <td>...</td>\n",
       "      <td>...</td>\n",
       "      <td>...</td>\n",
       "    </tr>\n",
       "    <tr>\n",
       "      <th>2021-12-27</th>\n",
       "      <td>180.419998</td>\n",
       "      <td>177.070007</td>\n",
       "      <td>177.089996</td>\n",
       "      <td>180.330002</td>\n",
       "      <td>74919600.0</td>\n",
       "      <td>180.100540</td>\n",
       "    </tr>\n",
       "    <tr>\n",
       "      <th>2021-12-28</th>\n",
       "      <td>181.330002</td>\n",
       "      <td>178.529999</td>\n",
       "      <td>180.160004</td>\n",
       "      <td>179.289993</td>\n",
       "      <td>79144300.0</td>\n",
       "      <td>179.061859</td>\n",
       "    </tr>\n",
       "    <tr>\n",
       "      <th>2021-12-29</th>\n",
       "      <td>180.630005</td>\n",
       "      <td>178.139999</td>\n",
       "      <td>179.330002</td>\n",
       "      <td>179.380005</td>\n",
       "      <td>62348900.0</td>\n",
       "      <td>179.151749</td>\n",
       "    </tr>\n",
       "    <tr>\n",
       "      <th>2021-12-30</th>\n",
       "      <td>180.570007</td>\n",
       "      <td>178.089996</td>\n",
       "      <td>179.470001</td>\n",
       "      <td>178.199997</td>\n",
       "      <td>59773000.0</td>\n",
       "      <td>177.973251</td>\n",
       "    </tr>\n",
       "    <tr>\n",
       "      <th>2021-12-31</th>\n",
       "      <td>179.229996</td>\n",
       "      <td>177.259995</td>\n",
       "      <td>178.089996</td>\n",
       "      <td>177.570007</td>\n",
       "      <td>64062300.0</td>\n",
       "      <td>177.344055</td>\n",
       "    </tr>\n",
       "  </tbody>\n",
       "</table>\n",
       "<p>2517 rows × 6 columns</p>\n",
       "</div>"
      ],
      "text/plain": [
       "                  high         low        open       close       volume  \\\n",
       "Date                                                                      \n",
       "2012-01-03   14.732143   14.607143   14.621429   14.686786  302220800.0   \n",
       "2012-01-04   14.810000   14.617143   14.642857   14.765714  260022000.0   \n",
       "2012-01-05   14.948214   14.738214   14.819643   14.929643  271269600.0   \n",
       "2012-01-06   15.098214   14.972143   14.991786   15.085714  318292800.0   \n",
       "2012-01-09   15.276786   15.048214   15.196429   15.061786  394024400.0   \n",
       "...                ...         ...         ...         ...          ...   \n",
       "2021-12-27  180.419998  177.070007  177.089996  180.330002   74919600.0   \n",
       "2021-12-28  181.330002  178.529999  180.160004  179.289993   79144300.0   \n",
       "2021-12-29  180.630005  178.139999  179.330002  179.380005   62348900.0   \n",
       "2021-12-30  180.570007  178.089996  179.470001  178.199997   59773000.0   \n",
       "2021-12-31  179.229996  177.259995  178.089996  177.570007   64062300.0   \n",
       "\n",
       "             adj_close  \n",
       "Date                    \n",
       "2012-01-03   12.575918  \n",
       "2012-01-04   12.643502  \n",
       "2012-01-05   12.783867  \n",
       "2012-01-06   12.917510  \n",
       "2012-01-09   12.897018  \n",
       "...                ...  \n",
       "2021-12-27  180.100540  \n",
       "2021-12-28  179.061859  \n",
       "2021-12-29  179.151749  \n",
       "2021-12-30  177.973251  \n",
       "2021-12-31  177.344055  \n",
       "\n",
       "[2517 rows x 6 columns]"
      ]
     },
     "execution_count": 4,
     "metadata": {},
     "output_type": "execute_result"
    }
   ],
   "source": [
    "df_aapl"
   ]
  },
  {
   "cell_type": "code",
   "execution_count": null,
   "metadata": {},
   "outputs": [
    {
     "data": {
      "text/plain": [
       "2.3860901883103436"
      ]
     },
     "execution_count": 10,
     "metadata": {},
     "output_type": "execute_result"
    }
   ],
   "source": [
    "stock_function.revenue(df_aapl, '2020-01-02', '2020-12-31', 100)"
   ]
  }
 ],
 "metadata": {
  "interpreter": {
   "hash": "8b2a4ccb8e65f19440174776a42fe422935672eb46806908ee7044aabe35ab48"
  },
  "kernelspec": {
   "display_name": "Python 3.9.7 ('clustering_exercise')",
   "language": "python",
   "name": "python3"
  },
  "language_info": {
   "codemirror_mode": {
    "name": "ipython",
    "version": 3
   },
   "file_extension": ".py",
   "mimetype": "text/x-python",
   "name": "python",
   "nbconvert_exporter": "python",
   "pygments_lexer": "ipython3",
   "version": "3.8.13"
  },
  "orig_nbformat": 4
 },
 "nbformat": 4,
 "nbformat_minor": 2
}
